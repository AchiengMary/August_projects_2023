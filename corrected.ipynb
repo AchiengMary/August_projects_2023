{
  "nbformat": 4,
  "nbformat_minor": 0,
  "metadata": {
    "colab": {
      "provenance": [],
      "authorship_tag": "ABX9TyOrDllBU99JI/XLTjkcx/uC",
      "include_colab_link": true
    },
    "kernelspec": {
      "name": "python3",
      "display_name": "Python 3"
    },
    "language_info": {
      "name": "python"
    }
  },
  "cells": [
    {
      "cell_type": "markdown",
      "metadata": {
        "id": "view-in-github",
        "colab_type": "text"
      },
      "source": [
        "<a href=\"https://colab.research.google.com/github/AchiengMary/August_projects_2023/blob/main/corrected.ipynb\" target=\"_parent\"><img src=\"https://colab.research.google.com/assets/colab-badge.svg\" alt=\"Open In Colab\"/></a>"
      ]
    },
    {
      "cell_type": "code",
      "execution_count": null,
      "metadata": {
        "id": "9worvJ8Qz48v"
      },
      "outputs": [],
      "source": [
        "import pandas as pd\n",
        "import numpy as np\n",
        "import matplotlib.pyplot as plt\n",
        "import seaborn as sns"
      ]
    },
    {
      "cell_type": "code",
      "source": [
        "df = pd.read_csv('/content/soil_data_corrected.csv')"
      ],
      "metadata": {
        "id": "j5JfPEfj0P6Q"
      },
      "execution_count": null,
      "outputs": []
    },
    {
      "cell_type": "code",
      "source": [
        "# Display the first few rows\n",
        "df.head()\n",
        "\n",
        "# Check the data types and null values\n",
        "df.info()\n",
        "\n",
        "# Statistical summary\n",
        "df.describe()\n",
        "\n",
        "# Check for missing values\n",
        "df.isnull().sum()"
      ],
      "metadata": {
        "colab": {
          "base_uri": "https://localhost:8080/",
          "height": 898
        },
        "id": "JDVwLBZy0cVL",
        "outputId": "0f8d16b1-d3b4-4afd-f2c5-927036d8fdf3"
      },
      "execution_count": null,
      "outputs": [
        {
          "output_type": "stream",
          "name": "stdout",
          "text": [
            "<class 'pandas.core.frame.DataFrame'>\n",
            "RangeIndex: 500 entries, 0 to 499\n",
            "Data columns (total 14 columns):\n",
            " #   Column                     Non-Null Count  Dtype  \n",
            "---  ------                     --------------  -----  \n",
            " 0   Saturation (% volume)      500 non-null    float64\n",
            " 1   Organic carbon (% weight)  500 non-null    float64\n",
            " 2   Clay fraction (% weight)   500 non-null    float64\n",
            " 3   Sand fraction (% weight)   500 non-null    float64\n",
            " 4   Silt fraction (% weight)   500 non-null    float64\n",
            " 5   Climate classification     500 non-null    int64  \n",
            " 6   Soil pH                    500 non-null    float64\n",
            " 7   Nitrogen (ppm)             500 non-null    float64\n",
            " 8   Phosphorus (ppm)           500 non-null    float64\n",
            " 9   Potassium (ppm)            500 non-null    float64\n",
            " 10  Soil temperature (°C)      500 non-null    float64\n",
            " 11  Salinity (dS/m)            500 non-null    float64\n",
            " 12  Oxygen levels (mg/L)       500 non-null    float64\n",
            " 13  Soil health                500 non-null    int64  \n",
            "dtypes: float64(12), int64(2)\n",
            "memory usage: 54.8 KB\n"
          ]
        },
        {
          "output_type": "execute_result",
          "data": {
            "text/plain": [
              "Saturation (% volume)        0\n",
              "Organic carbon (% weight)    0\n",
              "Clay fraction (% weight)     0\n",
              "Sand fraction (% weight)     0\n",
              "Silt fraction (% weight)     0\n",
              "Climate classification       0\n",
              "Soil pH                      0\n",
              "Nitrogen (ppm)               0\n",
              "Phosphorus (ppm)             0\n",
              "Potassium (ppm)              0\n",
              "Soil temperature (°C)        0\n",
              "Salinity (dS/m)              0\n",
              "Oxygen levels (mg/L)         0\n",
              "Soil health                  0\n",
              "dtype: int64"
            ],
            "text/html": [
              "<div>\n",
              "<style scoped>\n",
              "    .dataframe tbody tr th:only-of-type {\n",
              "        vertical-align: middle;\n",
              "    }\n",
              "\n",
              "    .dataframe tbody tr th {\n",
              "        vertical-align: top;\n",
              "    }\n",
              "\n",
              "    .dataframe thead th {\n",
              "        text-align: right;\n",
              "    }\n",
              "</style>\n",
              "<table border=\"1\" class=\"dataframe\">\n",
              "  <thead>\n",
              "    <tr style=\"text-align: right;\">\n",
              "      <th></th>\n",
              "      <th>0</th>\n",
              "    </tr>\n",
              "  </thead>\n",
              "  <tbody>\n",
              "    <tr>\n",
              "      <th>Saturation (% volume)</th>\n",
              "      <td>0</td>\n",
              "    </tr>\n",
              "    <tr>\n",
              "      <th>Organic carbon (% weight)</th>\n",
              "      <td>0</td>\n",
              "    </tr>\n",
              "    <tr>\n",
              "      <th>Clay fraction (% weight)</th>\n",
              "      <td>0</td>\n",
              "    </tr>\n",
              "    <tr>\n",
              "      <th>Sand fraction (% weight)</th>\n",
              "      <td>0</td>\n",
              "    </tr>\n",
              "    <tr>\n",
              "      <th>Silt fraction (% weight)</th>\n",
              "      <td>0</td>\n",
              "    </tr>\n",
              "    <tr>\n",
              "      <th>Climate classification</th>\n",
              "      <td>0</td>\n",
              "    </tr>\n",
              "    <tr>\n",
              "      <th>Soil pH</th>\n",
              "      <td>0</td>\n",
              "    </tr>\n",
              "    <tr>\n",
              "      <th>Nitrogen (ppm)</th>\n",
              "      <td>0</td>\n",
              "    </tr>\n",
              "    <tr>\n",
              "      <th>Phosphorus (ppm)</th>\n",
              "      <td>0</td>\n",
              "    </tr>\n",
              "    <tr>\n",
              "      <th>Potassium (ppm)</th>\n",
              "      <td>0</td>\n",
              "    </tr>\n",
              "    <tr>\n",
              "      <th>Soil temperature (°C)</th>\n",
              "      <td>0</td>\n",
              "    </tr>\n",
              "    <tr>\n",
              "      <th>Salinity (dS/m)</th>\n",
              "      <td>0</td>\n",
              "    </tr>\n",
              "    <tr>\n",
              "      <th>Oxygen levels (mg/L)</th>\n",
              "      <td>0</td>\n",
              "    </tr>\n",
              "    <tr>\n",
              "      <th>Soil health</th>\n",
              "      <td>0</td>\n",
              "    </tr>\n",
              "  </tbody>\n",
              "</table>\n",
              "</div><br><label><b>dtype:</b> int64</label>"
            ]
          },
          "metadata": {},
          "execution_count": 40
        }
      ]
    },
    {
      "cell_type": "code",
      "source": [
        "df.describe()"
      ],
      "metadata": {
        "colab": {
          "base_uri": "https://localhost:8080/",
          "height": 372
        },
        "id": "Lk1RZVb00j_H",
        "outputId": "e0657053-cbc5-4664-d1e7-a32c696c1148"
      },
      "execution_count": null,
      "outputs": [
        {
          "output_type": "execute_result",
          "data": {
            "text/plain": [
              "       Saturation (% volume)  Organic carbon (% weight)  \\\n",
              "count             500.000000                 500.000000   \n",
              "mean               54.710630                   5.168967   \n",
              "std                26.407577                   2.724957   \n",
              "min                10.128551                   0.502290   \n",
              "25%                32.031918                   2.795778   \n",
              "50%                53.385643                   5.129114   \n",
              "75%                79.249732                   7.512776   \n",
              "max                99.928657                   9.921018   \n",
              "\n",
              "       Clay fraction (% weight)  Sand fraction (% weight)  \\\n",
              "count                500.000000                500.000000   \n",
              "mean                  28.914303                 54.344621   \n",
              "std                   11.254408                 14.284018   \n",
              "min                   10.028674                 30.012147   \n",
              "25%                   19.172890                 41.781347   \n",
              "50%                   28.346661                 53.935048   \n",
              "75%                   37.637321                 66.644651   \n",
              "max                   49.956188                 79.790118   \n",
              "\n",
              "       Silt fraction (% weight)     Soil pH  Nitrogen (ppm)  Phosphorus (ppm)  \\\n",
              "count                500.000000  500.000000      500.000000        500.000000   \n",
              "mean                  29.219877    6.423625       28.602505         16.025861   \n",
              "std                   11.359285    1.155138       12.806317          7.724456   \n",
              "min                   10.016412    4.504526        5.008334          3.027602   \n",
              "25%                   19.617730    5.444320       18.411959          9.885195   \n",
              "50%                   28.286811    6.386075       29.056304         15.698582   \n",
              "75%                   38.304078    7.357723       39.038713         22.585375   \n",
              "max                   49.840511    8.497985       49.865981         29.990162   \n",
              "\n",
              "       Potassium (ppm)  Soil temperature (°C)  Salinity (dS/m)  \\\n",
              "count       500.000000             500.000000       500.000000   \n",
              "mean        171.690504              20.163284         2.052732   \n",
              "std          72.872045               8.698647         1.158763   \n",
              "min          50.271755               5.106099         0.005472   \n",
              "25%         109.774928              13.012868         1.004185   \n",
              "50%         170.219962              20.085167         2.098065   \n",
              "75%         235.026267              27.784629         3.093137   \n",
              "max         299.832480              34.926447         3.996363   \n",
              "\n",
              "       Oxygen levels (mg/L)  \n",
              "count            500.000000  \n",
              "mean               5.928047  \n",
              "std                2.253037  \n",
              "min                2.000949  \n",
              "25%                4.057405  \n",
              "50%                6.004456  \n",
              "75%                7.791460  \n",
              "max                9.933714  "
            ],
            "text/html": [
              "\n",
              "  <div id=\"df-84e327a2-5fcb-4c21-9c2f-e6f5a995de5a\" class=\"colab-df-container\">\n",
              "    <div>\n",
              "<style scoped>\n",
              "    .dataframe tbody tr th:only-of-type {\n",
              "        vertical-align: middle;\n",
              "    }\n",
              "\n",
              "    .dataframe tbody tr th {\n",
              "        vertical-align: top;\n",
              "    }\n",
              "\n",
              "    .dataframe thead th {\n",
              "        text-align: right;\n",
              "    }\n",
              "</style>\n",
              "<table border=\"1\" class=\"dataframe\">\n",
              "  <thead>\n",
              "    <tr style=\"text-align: right;\">\n",
              "      <th></th>\n",
              "      <th>Saturation (% volume)</th>\n",
              "      <th>Organic carbon (% weight)</th>\n",
              "      <th>Clay fraction (% weight)</th>\n",
              "      <th>Sand fraction (% weight)</th>\n",
              "      <th>Silt fraction (% weight)</th>\n",
              "      <th>Soil pH</th>\n",
              "      <th>Nitrogen (ppm)</th>\n",
              "      <th>Phosphorus (ppm)</th>\n",
              "      <th>Potassium (ppm)</th>\n",
              "      <th>Soil temperature (°C)</th>\n",
              "      <th>Salinity (dS/m)</th>\n",
              "      <th>Oxygen levels (mg/L)</th>\n",
              "    </tr>\n",
              "  </thead>\n",
              "  <tbody>\n",
              "    <tr>\n",
              "      <th>count</th>\n",
              "      <td>500.000000</td>\n",
              "      <td>500.000000</td>\n",
              "      <td>500.000000</td>\n",
              "      <td>500.000000</td>\n",
              "      <td>500.000000</td>\n",
              "      <td>500.000000</td>\n",
              "      <td>500.000000</td>\n",
              "      <td>500.000000</td>\n",
              "      <td>500.000000</td>\n",
              "      <td>500.000000</td>\n",
              "      <td>500.000000</td>\n",
              "      <td>500.000000</td>\n",
              "    </tr>\n",
              "    <tr>\n",
              "      <th>mean</th>\n",
              "      <td>54.710630</td>\n",
              "      <td>5.168967</td>\n",
              "      <td>28.914303</td>\n",
              "      <td>54.344621</td>\n",
              "      <td>29.219877</td>\n",
              "      <td>6.423625</td>\n",
              "      <td>28.602505</td>\n",
              "      <td>16.025861</td>\n",
              "      <td>171.690504</td>\n",
              "      <td>20.163284</td>\n",
              "      <td>2.052732</td>\n",
              "      <td>5.928047</td>\n",
              "    </tr>\n",
              "    <tr>\n",
              "      <th>std</th>\n",
              "      <td>26.407577</td>\n",
              "      <td>2.724957</td>\n",
              "      <td>11.254408</td>\n",
              "      <td>14.284018</td>\n",
              "      <td>11.359285</td>\n",
              "      <td>1.155138</td>\n",
              "      <td>12.806317</td>\n",
              "      <td>7.724456</td>\n",
              "      <td>72.872045</td>\n",
              "      <td>8.698647</td>\n",
              "      <td>1.158763</td>\n",
              "      <td>2.253037</td>\n",
              "    </tr>\n",
              "    <tr>\n",
              "      <th>min</th>\n",
              "      <td>10.128551</td>\n",
              "      <td>0.502290</td>\n",
              "      <td>10.028674</td>\n",
              "      <td>30.012147</td>\n",
              "      <td>10.016412</td>\n",
              "      <td>4.504526</td>\n",
              "      <td>5.008334</td>\n",
              "      <td>3.027602</td>\n",
              "      <td>50.271755</td>\n",
              "      <td>5.106099</td>\n",
              "      <td>0.005472</td>\n",
              "      <td>2.000949</td>\n",
              "    </tr>\n",
              "    <tr>\n",
              "      <th>25%</th>\n",
              "      <td>32.031918</td>\n",
              "      <td>2.795778</td>\n",
              "      <td>19.172890</td>\n",
              "      <td>41.781347</td>\n",
              "      <td>19.617730</td>\n",
              "      <td>5.444320</td>\n",
              "      <td>18.411959</td>\n",
              "      <td>9.885195</td>\n",
              "      <td>109.774928</td>\n",
              "      <td>13.012868</td>\n",
              "      <td>1.004185</td>\n",
              "      <td>4.057405</td>\n",
              "    </tr>\n",
              "    <tr>\n",
              "      <th>50%</th>\n",
              "      <td>53.385643</td>\n",
              "      <td>5.129114</td>\n",
              "      <td>28.346661</td>\n",
              "      <td>53.935048</td>\n",
              "      <td>28.286811</td>\n",
              "      <td>6.386075</td>\n",
              "      <td>29.056304</td>\n",
              "      <td>15.698582</td>\n",
              "      <td>170.219962</td>\n",
              "      <td>20.085167</td>\n",
              "      <td>2.098065</td>\n",
              "      <td>6.004456</td>\n",
              "    </tr>\n",
              "    <tr>\n",
              "      <th>75%</th>\n",
              "      <td>79.249732</td>\n",
              "      <td>7.512776</td>\n",
              "      <td>37.637321</td>\n",
              "      <td>66.644651</td>\n",
              "      <td>38.304078</td>\n",
              "      <td>7.357723</td>\n",
              "      <td>39.038713</td>\n",
              "      <td>22.585375</td>\n",
              "      <td>235.026267</td>\n",
              "      <td>27.784629</td>\n",
              "      <td>3.093137</td>\n",
              "      <td>7.791460</td>\n",
              "    </tr>\n",
              "    <tr>\n",
              "      <th>max</th>\n",
              "      <td>99.928657</td>\n",
              "      <td>9.921018</td>\n",
              "      <td>49.956188</td>\n",
              "      <td>79.790118</td>\n",
              "      <td>49.840511</td>\n",
              "      <td>8.497985</td>\n",
              "      <td>49.865981</td>\n",
              "      <td>29.990162</td>\n",
              "      <td>299.832480</td>\n",
              "      <td>34.926447</td>\n",
              "      <td>3.996363</td>\n",
              "      <td>9.933714</td>\n",
              "    </tr>\n",
              "  </tbody>\n",
              "</table>\n",
              "</div>\n",
              "    <div class=\"colab-df-buttons\">\n",
              "\n",
              "  <div class=\"colab-df-container\">\n",
              "    <button class=\"colab-df-convert\" onclick=\"convertToInteractive('df-84e327a2-5fcb-4c21-9c2f-e6f5a995de5a')\"\n",
              "            title=\"Convert this dataframe to an interactive table.\"\n",
              "            style=\"display:none;\">\n",
              "\n",
              "  <svg xmlns=\"http://www.w3.org/2000/svg\" height=\"24px\" viewBox=\"0 -960 960 960\">\n",
              "    <path d=\"M120-120v-720h720v720H120Zm60-500h600v-160H180v160Zm220 220h160v-160H400v160Zm0 220h160v-160H400v160ZM180-400h160v-160H180v160Zm440 0h160v-160H620v160ZM180-180h160v-160H180v160Zm440 0h160v-160H620v160Z\"/>\n",
              "  </svg>\n",
              "    </button>\n",
              "\n",
              "  <style>\n",
              "    .colab-df-container {\n",
              "      display:flex;\n",
              "      gap: 12px;\n",
              "    }\n",
              "\n",
              "    .colab-df-convert {\n",
              "      background-color: #E8F0FE;\n",
              "      border: none;\n",
              "      border-radius: 50%;\n",
              "      cursor: pointer;\n",
              "      display: none;\n",
              "      fill: #1967D2;\n",
              "      height: 32px;\n",
              "      padding: 0 0 0 0;\n",
              "      width: 32px;\n",
              "    }\n",
              "\n",
              "    .colab-df-convert:hover {\n",
              "      background-color: #E2EBFA;\n",
              "      box-shadow: 0px 1px 2px rgba(60, 64, 67, 0.3), 0px 1px 3px 1px rgba(60, 64, 67, 0.15);\n",
              "      fill: #174EA6;\n",
              "    }\n",
              "\n",
              "    .colab-df-buttons div {\n",
              "      margin-bottom: 4px;\n",
              "    }\n",
              "\n",
              "    [theme=dark] .colab-df-convert {\n",
              "      background-color: #3B4455;\n",
              "      fill: #D2E3FC;\n",
              "    }\n",
              "\n",
              "    [theme=dark] .colab-df-convert:hover {\n",
              "      background-color: #434B5C;\n",
              "      box-shadow: 0px 1px 3px 1px rgba(0, 0, 0, 0.15);\n",
              "      filter: drop-shadow(0px 1px 2px rgba(0, 0, 0, 0.3));\n",
              "      fill: #FFFFFF;\n",
              "    }\n",
              "  </style>\n",
              "\n",
              "    <script>\n",
              "      const buttonEl =\n",
              "        document.querySelector('#df-84e327a2-5fcb-4c21-9c2f-e6f5a995de5a button.colab-df-convert');\n",
              "      buttonEl.style.display =\n",
              "        google.colab.kernel.accessAllowed ? 'block' : 'none';\n",
              "\n",
              "      async function convertToInteractive(key) {\n",
              "        const element = document.querySelector('#df-84e327a2-5fcb-4c21-9c2f-e6f5a995de5a');\n",
              "        const dataTable =\n",
              "          await google.colab.kernel.invokeFunction('convertToInteractive',\n",
              "                                                    [key], {});\n",
              "        if (!dataTable) return;\n",
              "\n",
              "        const docLinkHtml = 'Like what you see? Visit the ' +\n",
              "          '<a target=\"_blank\" href=https://colab.research.google.com/notebooks/data_table.ipynb>data table notebook</a>'\n",
              "          + ' to learn more about interactive tables.';\n",
              "        element.innerHTML = '';\n",
              "        dataTable['output_type'] = 'display_data';\n",
              "        await google.colab.output.renderOutput(dataTable, element);\n",
              "        const docLink = document.createElement('div');\n",
              "        docLink.innerHTML = docLinkHtml;\n",
              "        element.appendChild(docLink);\n",
              "      }\n",
              "    </script>\n",
              "  </div>\n",
              "\n",
              "\n",
              "<div id=\"df-bc0d20f7-9204-4b43-b758-139125cc9607\">\n",
              "  <button class=\"colab-df-quickchart\" onclick=\"quickchart('df-bc0d20f7-9204-4b43-b758-139125cc9607')\"\n",
              "            title=\"Suggest charts\"\n",
              "            style=\"display:none;\">\n",
              "\n",
              "<svg xmlns=\"http://www.w3.org/2000/svg\" height=\"24px\"viewBox=\"0 0 24 24\"\n",
              "     width=\"24px\">\n",
              "    <g>\n",
              "        <path d=\"M19 3H5c-1.1 0-2 .9-2 2v14c0 1.1.9 2 2 2h14c1.1 0 2-.9 2-2V5c0-1.1-.9-2-2-2zM9 17H7v-7h2v7zm4 0h-2V7h2v10zm4 0h-2v-4h2v4z\"/>\n",
              "    </g>\n",
              "</svg>\n",
              "  </button>\n",
              "\n",
              "<style>\n",
              "  .colab-df-quickchart {\n",
              "      --bg-color: #E8F0FE;\n",
              "      --fill-color: #1967D2;\n",
              "      --hover-bg-color: #E2EBFA;\n",
              "      --hover-fill-color: #174EA6;\n",
              "      --disabled-fill-color: #AAA;\n",
              "      --disabled-bg-color: #DDD;\n",
              "  }\n",
              "\n",
              "  [theme=dark] .colab-df-quickchart {\n",
              "      --bg-color: #3B4455;\n",
              "      --fill-color: #D2E3FC;\n",
              "      --hover-bg-color: #434B5C;\n",
              "      --hover-fill-color: #FFFFFF;\n",
              "      --disabled-bg-color: #3B4455;\n",
              "      --disabled-fill-color: #666;\n",
              "  }\n",
              "\n",
              "  .colab-df-quickchart {\n",
              "    background-color: var(--bg-color);\n",
              "    border: none;\n",
              "    border-radius: 50%;\n",
              "    cursor: pointer;\n",
              "    display: none;\n",
              "    fill: var(--fill-color);\n",
              "    height: 32px;\n",
              "    padding: 0;\n",
              "    width: 32px;\n",
              "  }\n",
              "\n",
              "  .colab-df-quickchart:hover {\n",
              "    background-color: var(--hover-bg-color);\n",
              "    box-shadow: 0 1px 2px rgba(60, 64, 67, 0.3), 0 1px 3px 1px rgba(60, 64, 67, 0.15);\n",
              "    fill: var(--button-hover-fill-color);\n",
              "  }\n",
              "\n",
              "  .colab-df-quickchart-complete:disabled,\n",
              "  .colab-df-quickchart-complete:disabled:hover {\n",
              "    background-color: var(--disabled-bg-color);\n",
              "    fill: var(--disabled-fill-color);\n",
              "    box-shadow: none;\n",
              "  }\n",
              "\n",
              "  .colab-df-spinner {\n",
              "    border: 2px solid var(--fill-color);\n",
              "    border-color: transparent;\n",
              "    border-bottom-color: var(--fill-color);\n",
              "    animation:\n",
              "      spin 1s steps(1) infinite;\n",
              "  }\n",
              "\n",
              "  @keyframes spin {\n",
              "    0% {\n",
              "      border-color: transparent;\n",
              "      border-bottom-color: var(--fill-color);\n",
              "      border-left-color: var(--fill-color);\n",
              "    }\n",
              "    20% {\n",
              "      border-color: transparent;\n",
              "      border-left-color: var(--fill-color);\n",
              "      border-top-color: var(--fill-color);\n",
              "    }\n",
              "    30% {\n",
              "      border-color: transparent;\n",
              "      border-left-color: var(--fill-color);\n",
              "      border-top-color: var(--fill-color);\n",
              "      border-right-color: var(--fill-color);\n",
              "    }\n",
              "    40% {\n",
              "      border-color: transparent;\n",
              "      border-right-color: var(--fill-color);\n",
              "      border-top-color: var(--fill-color);\n",
              "    }\n",
              "    60% {\n",
              "      border-color: transparent;\n",
              "      border-right-color: var(--fill-color);\n",
              "    }\n",
              "    80% {\n",
              "      border-color: transparent;\n",
              "      border-right-color: var(--fill-color);\n",
              "      border-bottom-color: var(--fill-color);\n",
              "    }\n",
              "    90% {\n",
              "      border-color: transparent;\n",
              "      border-bottom-color: var(--fill-color);\n",
              "    }\n",
              "  }\n",
              "</style>\n",
              "\n",
              "  <script>\n",
              "    async function quickchart(key) {\n",
              "      const quickchartButtonEl =\n",
              "        document.querySelector('#' + key + ' button');\n",
              "      quickchartButtonEl.disabled = true;  // To prevent multiple clicks.\n",
              "      quickchartButtonEl.classList.add('colab-df-spinner');\n",
              "      try {\n",
              "        const charts = await google.colab.kernel.invokeFunction(\n",
              "            'suggestCharts', [key], {});\n",
              "      } catch (error) {\n",
              "        console.error('Error during call to suggestCharts:', error);\n",
              "      }\n",
              "      quickchartButtonEl.classList.remove('colab-df-spinner');\n",
              "      quickchartButtonEl.classList.add('colab-df-quickchart-complete');\n",
              "    }\n",
              "    (() => {\n",
              "      let quickchartButtonEl =\n",
              "        document.querySelector('#df-bc0d20f7-9204-4b43-b758-139125cc9607 button');\n",
              "      quickchartButtonEl.style.display =\n",
              "        google.colab.kernel.accessAllowed ? 'block' : 'none';\n",
              "    })();\n",
              "  </script>\n",
              "</div>\n",
              "\n",
              "    </div>\n",
              "  </div>\n"
            ],
            "application/vnd.google.colaboratory.intrinsic+json": {
              "type": "dataframe",
              "summary": "{\n  \"name\": \"df\",\n  \"rows\": 8,\n  \"fields\": [\n    {\n      \"column\": \"Saturation (% volume)\",\n      \"properties\": {\n        \"dtype\": \"number\",\n        \"std\": 161.41215448872452,\n        \"min\": 10.128550877125903,\n        \"max\": 500.0,\n        \"num_unique_values\": 8,\n        \"samples\": [\n          54.71063041004513,\n          53.385642885128675,\n          500.0\n        ],\n        \"semantic_type\": \"\",\n        \"description\": \"\"\n      }\n    },\n    {\n      \"column\": \"Organic carbon (% weight)\",\n      \"properties\": {\n        \"dtype\": \"number\",\n        \"std\": 175.09654555243813,\n        \"min\": 0.5022895445087783,\n        \"max\": 500.0,\n        \"num_unique_values\": 8,\n        \"samples\": [\n          5.168967214107277,\n          5.129114303990872,\n          500.0\n        ],\n        \"semantic_type\": \"\",\n        \"description\": \"\"\n      }\n    },\n    {\n      \"column\": \"Clay fraction (% weight)\",\n      \"properties\": {\n        \"dtype\": \"number\",\n        \"std\": 167.94569426993428,\n        \"min\": 10.028674348263191,\n        \"max\": 500.0,\n        \"num_unique_values\": 8,\n        \"samples\": [\n          28.914303267299648,\n          28.346660923544647,\n          500.0\n        ],\n        \"semantic_type\": \"\",\n        \"description\": \"\"\n      }\n    },\n    {\n      \"column\": \"Sand fraction (% weight)\",\n      \"properties\": {\n        \"dtype\": \"number\",\n        \"std\": 160.8701138931487,\n        \"min\": 14.284018196860211,\n        \"max\": 500.0,\n        \"num_unique_values\": 8,\n        \"samples\": [\n          54.344621134025864,\n          53.93504759551843,\n          500.0\n        ],\n        \"semantic_type\": \"\",\n        \"description\": \"\"\n      }\n    },\n    {\n      \"column\": \"Silt fraction (% weight)\",\n      \"properties\": {\n        \"dtype\": \"number\",\n        \"std\": 167.87934541806928,\n        \"min\": 10.016411577566997,\n        \"max\": 500.0,\n        \"num_unique_values\": 8,\n        \"samples\": [\n          29.2198767027097,\n          28.286811241708914,\n          500.0\n        ],\n        \"semantic_type\": \"\",\n        \"description\": \"\"\n      }\n    },\n    {\n      \"column\": \"Soil pH\",\n      \"properties\": {\n        \"dtype\": \"number\",\n        \"std\": 174.78181823689079,\n        \"min\": 1.1551380966481075,\n        \"max\": 500.0,\n        \"num_unique_values\": 8,\n        \"samples\": [\n          6.4236251998670175,\n          6.3860751413017525,\n          500.0\n        ],\n        \"semantic_type\": \"\",\n        \"description\": \"\"\n      }\n    },\n    {\n      \"column\": \"Nitrogen (ppm)\",\n      \"properties\": {\n        \"dtype\": \"number\",\n        \"std\": 168.15205804027264,\n        \"min\": 5.008333788294927,\n        \"max\": 500.0,\n        \"num_unique_values\": 8,\n        \"samples\": [\n          28.602505376130345,\n          29.0563040426427,\n          500.0\n        ],\n        \"semantic_type\": \"\",\n        \"description\": \"\"\n      }\n    },\n    {\n      \"column\": \"Phosphorus (ppm)\",\n      \"properties\": {\n        \"dtype\": \"number\",\n        \"std\": 171.68729930221966,\n        \"min\": 3.027602089050096,\n        \"max\": 500.0,\n        \"num_unique_values\": 8,\n        \"samples\": [\n          16.025861163171303,\n          15.69858242812018,\n          500.0\n        ],\n        \"semantic_type\": \"\",\n        \"description\": \"\"\n      }\n    },\n    {\n      \"column\": \"Potassium (ppm)\",\n      \"properties\": {\n        \"dtype\": \"number\",\n        \"std\": 146.185077295592,\n        \"min\": 50.271754951233135,\n        \"max\": 500.0,\n        \"num_unique_values\": 8,\n        \"samples\": [\n          171.69050398148374,\n          170.21996152627304,\n          500.0\n        ],\n        \"semantic_type\": \"\",\n        \"description\": \"\"\n      }\n    },\n    {\n      \"column\": \"Soil temperature (\\u00b0C)\",\n      \"properties\": {\n        \"dtype\": \"number\",\n        \"std\": 170.5015633693566,\n        \"min\": 5.106098711096738,\n        \"max\": 500.0,\n        \"num_unique_values\": 8,\n        \"samples\": [\n          20.163284426714146,\n          20.085166830685864,\n          500.0\n        ],\n        \"semantic_type\": \"\",\n        \"description\": \"\"\n      }\n    },\n    {\n      \"column\": \"Salinity (dS/m)\",\n      \"properties\": {\n        \"dtype\": \"number\",\n        \"std\": 176.1038416158846,\n        \"min\": 0.0054719374541472,\n        \"max\": 500.0,\n        \"num_unique_values\": 8,\n        \"samples\": [\n          2.0527323430372033,\n          2.0980654075640586,\n          500.0\n        ],\n        \"semantic_type\": \"\",\n        \"description\": \"\"\n      }\n    },\n    {\n      \"column\": \"Oxygen levels (mg/L)\",\n      \"properties\": {\n        \"dtype\": \"number\",\n        \"std\": 174.87946198131476,\n        \"min\": 2.0009491592868,\n        \"max\": 500.0,\n        \"num_unique_values\": 8,\n        \"samples\": [\n          5.9280471310735265,\n          6.004455558870042,\n          500.0\n        ],\n        \"semantic_type\": \"\",\n        \"description\": \"\"\n      }\n    }\n  ]\n}"
            }
          },
          "metadata": {},
          "execution_count": 5
        }
      ]
    },
    {
      "cell_type": "code",
      "source": [
        "df.hist(figsize=(12, 10))"
      ],
      "metadata": {
        "colab": {
          "base_uri": "https://localhost:8080/",
          "height": 1000
        },
        "id": "8nWLc9W60rSp",
        "outputId": "71b38e46-1a41-44f4-d6e8-7e12e1a5b002"
      },
      "execution_count": null,
      "outputs": [
        {
          "output_type": "execute_result",
          "data": {
            "text/plain": [
              "array([[<Axes: title={'center': 'Saturation (% volume)'}>,\n",
              "        <Axes: title={'center': 'Organic carbon (% weight)'}>,\n",
              "        <Axes: title={'center': 'Clay fraction (% weight)'}>],\n",
              "       [<Axes: title={'center': 'Sand fraction (% weight)'}>,\n",
              "        <Axes: title={'center': 'Silt fraction (% weight)'}>,\n",
              "        <Axes: title={'center': 'Soil pH'}>],\n",
              "       [<Axes: title={'center': 'Nitrogen (ppm)'}>,\n",
              "        <Axes: title={'center': 'Phosphorus (ppm)'}>,\n",
              "        <Axes: title={'center': 'Potassium (ppm)'}>],\n",
              "       [<Axes: title={'center': 'Soil temperature (°C)'}>,\n",
              "        <Axes: title={'center': 'Salinity (dS/m)'}>,\n",
              "        <Axes: title={'center': 'Oxygen levels (mg/L)'}>]], dtype=object)"
            ]
          },
          "metadata": {},
          "execution_count": 6
        },
        {
          "output_type": "display_data",
          "data": {
            "text/plain": [
              "<Figure size 1200x1000 with 12 Axes>"
            ],
            "image/png": "[encoded data removed]"
          },
          "metadata": {}
        }
      ]
    },
    {
      "cell_type": "code",
      "source": [
        "sns.countplot(x='Soil health', data=df)"
      ],
      "metadata": {
        "colab": {
          "base_uri": "https://localhost:8080/",
          "height": 467
        },
        "id": "pcBmBid401t3",
        "outputId": "1196156d-4fb9-406e-b422-8f8dbd3e3832"
      },
      "execution_count": null,
      "outputs": [
        {
          "output_type": "execute_result",
          "data": {
            "text/plain": [
              "<Axes: xlabel='Soil health', ylabel='count'>"
            ]
          },
          "metadata": {},
          "execution_count": 7
        },
        {
          "output_type": "display_data",
          "data": {
            "text/plain": [
              "<Figure size 640x480 with 1 Axes>"
            ],
            "image/png": "[encoded data removed]"
          },
          "metadata": {}
        }
      ]
    },
    {
      "cell_type": "code",
      "source": [
        "df['Soil health'].value_counts()"
      ],
      "metadata": {
        "colab": {
          "base_uri": "https://localhost:8080/",
          "height": 144
        },
        "id": "Ho-VCSbY2LNF",
        "outputId": "14aeaabd-f382-4360-e7d3-ad508356822d"
      },
      "execution_count": null,
      "outputs": [
        {
          "output_type": "error",
          "ename": "NameError",
          "evalue": "name 'df' is not defined",
          "traceback": [
            "\u001b[0;31m---------------------------------------------------------------------------\u001b[0m",
            "\u001b[0;31mNameError\u001b[0m                                 Traceback (most recent call last)",
            "\u001b[0;32m<ipython-input-2-eb89ad0c265a>\u001b[0m in \u001b[0;36m<cell line: 1>\u001b[0;34m()\u001b[0m\n\u001b[0;32m----> 1\u001b[0;31m \u001b[0mdf\u001b[0m\u001b[0;34m[\u001b[0m\u001b[0;34m'Soil health'\u001b[0m\u001b[0;34m]\u001b[0m\u001b[0;34m.\u001b[0m\u001b[0mvalue_counts\u001b[0m\u001b[0;34m(\u001b[0m\u001b[0;34m)\u001b[0m\u001b[0;34m\u001b[0m\u001b[0;34m\u001b[0m\u001b[0m\n\u001b[0m",
            "\u001b[0;31mNameError\u001b[0m: name 'df' is not defined"
          ]
        }
      ]
    },
    {
      "cell_type": "code",
      "source": [
        "sns.countplot(x='Soil pH', data=df)"
      ],
      "metadata": {
        "colab": {
          "base_uri": "https://localhost:8080/",
          "height": 467
        },
        "id": "p6cLXa5F3HrX",
        "outputId": "3a348a34-8fbb-47e5-8cf2-1dafc707cf3b"
      },
      "execution_count": null,
      "outputs": [
        {
          "output_type": "execute_result",
          "data": {
            "text/plain": [
              "<Axes: xlabel='Soil pH', ylabel='count'>"
            ]
          },
          "metadata": {},
          "execution_count": 12
        },
        {
          "output_type": "display_data",
          "data": {
            "text/plain": [
              "<Figure size 640x480 with 1 Axes>"
            ],
            "image/png": "[encoded data removed]"
          },
          "metadata": {}
        }
      ]
    },
    {
      "cell_type": "code",
      "source": [
        "sns.boxplot(x='Soil pH', y='Soil health', data=df)\n"
      ],
      "metadata": {
        "colab": {
          "base_uri": "https://localhost:8080/",
          "height": 467
        },
        "id": "-PaFT2cV4Khe",
        "outputId": "8cf2d856-af0f-4fe4-9167-c81318ae69d0"
      },
      "execution_count": null,
      "outputs": [
        {
          "output_type": "execute_result",
          "data": {
            "text/plain": [
              "<Axes: xlabel='Soil pH', ylabel='Soil health'>"
            ]
          },
          "metadata": {},
          "execution_count": 13
        },
        {
          "output_type": "display_data",
          "data": {
            "text/plain": [
              "<Figure size 640x480 with 1 Axes>"
            ],
            "image/png": "[encoded data removed]"
          },
          "metadata": {}
        }
      ]
    },
    {
      "cell_type": "code",
      "source": [
        "sns.boxplot(x='Oxygen levels (mg/L)', y='Soil health', data=df)"
      ],
      "metadata": {
        "colab": {
          "base_uri": "https://localhost:8080/",
          "height": 467
        },
        "id": "nUvkBEC44hi3",
        "outputId": "f34b1102-aac3-4e36-c609-8a35ab8c3854"
      },
      "execution_count": null,
      "outputs": [
        {
          "output_type": "execute_result",
          "data": {
            "text/plain": [
              "<Axes: xlabel='Oxygen levels (mg/L)', ylabel='Soil health'>"
            ]
          },
          "metadata": {},
          "execution_count": 15
        },
        {
          "output_type": "display_data",
          "data": {
            "text/plain": [
              "<Figure size 640x480 with 1 Axes>"
            ],
            "image/png": "[encoded data removed]"
          },
          "metadata": {}
        }
      ]
    },
    {
      "cell_type": "code",
      "source": [
        "from sklearn.model_selection import train_test_split\n",
        "from sklearn.preprocessing import LabelEncoder\n",
        "\n",
        "# Step 1: Separate features (X) and target (y)\n",
        "X = df.drop(columns=['Soil health'])  # Assuming 'Soil_Health' is your target column\n",
        "y = df['Soil health']\n",
        "\n",
        "# This will convert the string labels to numerical representations (0, 1, 2)\n",
        "label_encoder = LabelEncoder()\n",
        "y = label_encoder.fit_transform(y)\n",
        "\n",
        "# Step 2: Split into training (70%) and temporary data (30%)\n",
        "X_train, X_temp, y_train, y_temp = train_test_split(X, y, test_size=0.3, random_state=42)\n",
        "\n",
        "# Step 3: Split the temporary data into validation (15%) and test (15%) sets\n",
        "X_val, X_test, y_val, y_test = train_test_split(X_temp, y_temp, test_size=0.5, random_state=42)\n",
        "\n",
        "# Verify the shapes of the splits\n",
        "print(f\"Training data shape: {X_train.shape}, {y_train.shape}\")\n",
        "print(f\"Validation data shape: {X_val.shape}, {y_val.shape}\")\n",
        "print(f\"Test data shape: {X_test.shape}, {y_test.shape}\")"
      ],
      "metadata": {
        "colab": {
          "base_uri": "https://localhost:8080/"
        },
        "id": "xmlzTcxx6Xn8",
        "outputId": "d92f5565-1e54-4507-fbd6-602f6efc9951"
      },
      "execution_count": null,
      "outputs": [
        {
          "output_type": "stream",
          "name": "stdout",
          "text": [
            "Training data shape: (350, 13), (350,)\n",
            "Validation data shape: (75, 13), (75,)\n",
            "Test data shape: (75, 13), (75,)\n"
          ]
        }
      ]
    },
    {
      "cell_type": "code",
      "source": [
        "from xgboost import XGBClassifier\n",
        "from sklearn.metrics import accuracy_score, classification_report\n",
        "from sklearn.compose import ColumnTransformer\n",
        "from sklearn.pipeline import Pipeline\n",
        "\n",
        "from xgboost import XGBClassifier\n",
        "model = XGBClassifier(scale_pos_weight={0: 1, 1: 1.76, 2: 2.18})\n",
        "\n",
        "# Apply label encoding\n",
        "df['Soil health'] = label_encoder.fit_transform(df['Soil health'])\n",
        "\n",
        "categorical_features = ['Climate classification']\n",
        "\n",
        "# Create a preprocessor to handle categorical features\n",
        "preprocessor = ColumnTransformer(\n",
        "    transformers=[\n",
        "        ('num', 'passthrough', list(X_train.columns.difference(categorical_features))), # Keep numerical features as is\n",
        "        ('cat', LabelEncoder(), categorical_features) # Apply LabelEncoder to categorical features\n",
        "    ])\n",
        "\n",
        "# Create a pipeline including the preprocessor and the XGBoost model\n",
        "pipeline = Pipeline([\n",
        "    ('preprocessor', preprocessor),\n",
        "    ('classifier', XGBClassifier(random_state=42))\n",
        "])\n",
        "\n",
        "\n",
        "# Display the encoded DataFrame\n",
        "print(df.head())\n",
        "\n",
        "# Mapping of categories to labels\n",
        "print(dict(zip(label_encoder.classes_, label_encoder.transform(label_encoder.classes_))))\n",
        "\n",
        "# Initialize and train the XGBoost model\n",
        "xgb_model = XGBClassifier(random_state=42)\n",
        "xgb_model.fit(X_train, y_train)\n",
        "\n",
        "# Validate the model\n",
        "y_val_pred = xgb_model.predict(X_val)\n",
        "print(\"Validation Accuracy:\", accuracy_score(y_val, y_val_pred))\n",
        "print(classification_report(y_val, y_val_pred))"
      ],
      "metadata": {
        "colab": {
          "base_uri": "https://localhost:8080/"
        },
        "id": "UMOx2-Yq6xx9",
        "outputId": "88880676-5189-4b3b-bad7-644bed79059b"
      },
      "execution_count": null,
      "outputs": [
        {
          "output_type": "stream",
          "name": "stdout",
          "text": [
            "   Saturation (% volume)  Organic carbon (% weight)  Clay fraction (% weight)  \\\n",
            "0              35.010201                   9.014244                 12.464319   \n",
            "1              54.837037                   8.163724                 16.499937   \n",
            "2              39.657737                   0.534735                 45.801354   \n",
            "3              49.654280                   3.540566                 37.440969   \n",
            "4              87.125512                   4.506855                 19.996069   \n",
            "\n",
            "   Sand fraction (% weight)  Silt fraction (% weight)  Climate classification  \\\n",
            "0                 72.438379                 38.164174                       4   \n",
            "1                 65.302906                 33.589161                       4   \n",
            "2                 54.522720                 27.996511                       4   \n",
            "3                 42.884782                 44.334935                       2   \n",
            "4                 74.246337                 48.273427                       1   \n",
            "\n",
            "    Soil pH  Nitrogen (ppm)  Phosphorus (ppm)  Potassium (ppm)  \\\n",
            "0  5.218001       24.313576         22.263473       214.470984   \n",
            "1  7.562419       18.716592          3.096594        65.977830   \n",
            "2  6.474123       16.541939          4.256621        91.498615   \n",
            "3  8.022674       31.718784          3.117290       125.238069   \n",
            "4  6.088969        5.708119         20.423629       184.844830   \n",
            "\n",
            "   Soil temperature (°C)  Salinity (dS/m)  Oxygen levels (mg/L)  Soil health  \n",
            "0              13.470982         2.311799              9.913434            0  \n",
            "1              13.867974         2.109609              9.110294            1  \n",
            "2              33.350173         0.641537              4.623597            2  \n",
            "3              34.630134         2.861828              5.382961            0  \n",
            "4              19.203047         2.809194              7.355846            0  \n",
            "{0: 0, 1: 1, 2: 2}\n",
            "Validation Accuracy: 0.38666666666666666\n",
            "              precision    recall  f1-score   support\n",
            "\n",
            "           0       0.46      0.65      0.54        37\n",
            "           1       0.25      0.14      0.18        21\n",
            "           2       0.18      0.12      0.14        17\n",
            "\n",
            "    accuracy                           0.39        75\n",
            "   macro avg       0.30      0.30      0.29        75\n",
            "weighted avg       0.34      0.39      0.35        75\n",
            "\n"
          ]
        }
      ]
    },
    {
      "cell_type": "code",
      "source": [
        "#confusion matrix to pinpoint where the model struggles\n",
        "from sklearn.metrics import confusion_matrix, ConfusionMatrixDisplay\n",
        "cm = confusion_matrix(y_val, y_val_pred)\n",
        "ConfusionMatrixDisplay(cm).plot()"
      ],
      "metadata": {
        "colab": {
          "base_uri": "https://localhost:8080/",
          "height": 467
        },
        "id": "geeMIAl2Tekq",
        "outputId": "7063292a-d7f2-4ca1-d96e-d7ca33e67f19"
      },
      "execution_count": null,
      "outputs": [
        {
          "output_type": "execute_result",
          "data": {
            "text/plain": [
              "<sklearn.metrics._plot.confusion_matrix.ConfusionMatrixDisplay at 0x7f9916db7280>"
            ]
          },
          "metadata": {},
          "execution_count": 44
        },
        {
          "output_type": "display_data",
          "data": {
            "text/plain": [
              "<Figure size 640x480 with 2 Axes>"
            ],
            "image/png": "[encoded data removed]"
          },
          "metadata": {}
        }
      ]
    },
    {
      "cell_type": "code",
      "source": [
        "#Standardize or normalize continuous features (e.g., Soil pH, Soil temperature) to ensure consistency\n",
        "from sklearn.preprocessing import StandardScaler\n",
        "scaler = StandardScaler()\n",
        "X_scaled = scaler.fit_transform(X)"
      ],
      "metadata": {
        "id": "Pb2IgaD-VRpm"
      },
      "execution_count": null,
      "outputs": []
    },
    {
      "cell_type": "code",
      "source": [
        "#Use k-fold cross-validation to assess model performance on different data splits\n",
        "from sklearn.model_selection import cross_val_score\n",
        "scores = cross_val_score(model, X, y, cv=5, scoring='accuracy')\n",
        "print(\"Cross-Validation Accuracy: \", scores.mean())"
      ],
      "metadata": {
        "colab": {
          "base_uri": "https://localhost:8080/"
        },
        "id": "xdm4I87nVbXx",
        "outputId": "2be6f6e4-9a51-43da-a33d-4ca5b6f8cf6b"
      },
      "execution_count": null,
      "outputs": [
        {
          "output_type": "stream",
          "name": "stderr",
          "text": [
            "/usr/local/lib/python3.10/dist-packages/xgboost/core.py:158: UserWarning: [12:40:34] WARNING: /workspace/src/learner.cc:740: \n",
            "Parameters: { \"scale_pos_weight\" } are not used.\n",
            "\n",
            "  warnings.warn(smsg, UserWarning)\n",
            "/usr/local/lib/python3.10/dist-packages/xgboost/core.py:158: UserWarning: [12:40:36] WARNING: /workspace/src/learner.cc:740: \n",
            "Parameters: { \"scale_pos_weight\" } are not used.\n",
            "\n",
            "  warnings.warn(smsg, UserWarning)\n",
            "/usr/local/lib/python3.10/dist-packages/xgboost/core.py:158: UserWarning: [12:40:39] WARNING: /workspace/src/learner.cc:740: \n",
            "Parameters: { \"scale_pos_weight\" } are not used.\n",
            "\n",
            "  warnings.warn(smsg, UserWarning)\n",
            "/usr/local/lib/python3.10/dist-packages/xgboost/core.py:158: UserWarning: [12:40:44] WARNING: /workspace/src/learner.cc:740: \n",
            "Parameters: { \"scale_pos_weight\" } are not used.\n",
            "\n",
            "  warnings.warn(smsg, UserWarning)\n",
            "/usr/local/lib/python3.10/dist-packages/xgboost/core.py:158: UserWarning: [12:40:44] WARNING: /workspace/src/learner.cc:740: \n",
            "Parameters: { \"scale_pos_weight\" } are not used.\n",
            "\n",
            "  warnings.warn(smsg, UserWarning)\n"
          ]
        },
        {
          "output_type": "stream",
          "name": "stdout",
          "text": [
            "Cross-Validation Accuracy:  0.476\n"
          ]
        }
      ]
    }
  ]
}