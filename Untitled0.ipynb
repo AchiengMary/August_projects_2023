{
  "nbformat": 4,
  "nbformat_minor": 0,
  "metadata": {
    "colab": {
      "provenance": [],
      "authorship_tag": "ABX9TyOzCq0ZkYcsM7VJfpjd/J5i",
      "include_colab_link": true
    },
    "kernelspec": {
      "name": "python3",
      "display_name": "Python 3"
    },
    "language_info": {
      "name": "python"
    }
  },
  "cells": [
    {
      "cell_type": "markdown",
      "metadata": {
        "id": "view-in-github",
        "colab_type": "text"
      },
      "source": [
        "<a href=\"https://colab.research.google.com/github/AchiengMary/August_projects_2023/blob/main/Untitled0.ipynb\" target=\"_parent\"><img src=\"https://colab.research.google.com/assets/colab-badge.svg\" alt=\"Open In Colab\"/></a>"
      ]
    },
    {
      "cell_type": "markdown",
      "source": [
        "add two variables"
      ],
      "metadata": {
        "id": "fRDCtuSbV5vu"
      }
    },
    {
      "cell_type": "code",
      "execution_count": 1,
      "metadata": {
        "colab": {
          "base_uri": "https://localhost:8080/"
        },
        "id": "JNOF7uBfUaMI",
        "outputId": "c04f80cf-a1e4-4095-9dce-63044e05321e"
      },
      "outputs": [
        {
          "output_type": "stream",
          "name": "stdout",
          "text": [
            "9\n"
          ]
        }
      ],
      "source": [
        "x = 4\n",
        "y = 5\n",
        "z = x + y\n",
        "print(z)\n"
      ]
    },
    {
      "cell_type": "markdown",
      "source": [
        "Multiply two variables"
      ],
      "metadata": {
        "id": "l9S0PhIrVZx3"
      }
    },
    {
      "cell_type": "code",
      "source": [
        "c = x * y\n",
        "print(c)"
      ],
      "metadata": {
        "colab": {
          "base_uri": "https://localhost:8080/"
        },
        "id": "irTN3NOcVeYw",
        "outputId": "cb6b0fc7-24c2-421f-ad03-ea29252e0908"
      },
      "execution_count": 3,
      "outputs": [
        {
          "output_type": "stream",
          "name": "stdout",
          "text": [
            "20\n"
          ]
        }
      ]
    },
    {
      "cell_type": "code",
      "source": [],
      "metadata": {
        "id": "lSWOAkhnWGwB"
      },
      "execution_count": null,
      "outputs": []
    }
  ]
}